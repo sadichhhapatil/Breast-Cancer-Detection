{
  "nbformat": 4,
  "nbformat_minor": 5,
  "metadata": {
    "kernelspec": {
      "display_name": "Python 3",
      "language": "python",
      "name": "python3"
    },
    "language_info": {
      "codemirror_mode": {
        "name": "ipython",
        "version": 3
      },
      "file_extension": ".py",
      "mimetype": "text/x-python",
      "name": "python",
      "nbconvert_exporter": "python",
      "pygments_lexer": "ipython3",
      "version": "3.8.8"
    },
    "colab": {
      "name": "Copy of BreastCancerDetection.ipynb",
      "provenance": [],
      "collapsed_sections": []
    }
  },
  "cells": [
    {
      "cell_type": "code",
      "metadata": {
        "id": "29ff5da4"
      },
      "source": [
        "from sklearn.datasets import load_breast_cancer\n",
        "from sklearn.preprocessing import StandardScaler\n",
        "\n",
        "from keras.models import Sequential\n",
        "from keras.layers import Dense\n",
        "\n",
        "import pandas as pd\n",
        "import numpy as np"
      ],
      "id": "29ff5da4",
      "execution_count": null,
      "outputs": []
    },
    {
      "cell_type": "code",
      "metadata": {
        "id": "5bc7840c"
      },
      "source": [
        "data = load_breast_cancer()"
      ],
      "id": "5bc7840c",
      "execution_count": null,
      "outputs": []
    },
    {
      "cell_type": "code",
      "metadata": {
        "id": "16eb6a50"
      },
      "source": [
        "data.keys()"
      ],
      "id": "16eb6a50",
      "execution_count": null,
      "outputs": []
    },
    {
      "cell_type": "code",
      "metadata": {
        "id": "f8a1331d"
      },
      "source": [
        "print(data['DESCR'])"
      ],
      "id": "f8a1331d",
      "execution_count": null,
      "outputs": []
    },
    {
      "cell_type": "code",
      "metadata": {
        "id": "af4e30b1"
      },
      "source": [
        "data['data'].shape"
      ],
      "id": "af4e30b1",
      "execution_count": null,
      "outputs": []
    },
    {
      "cell_type": "code",
      "metadata": {
        "id": "2053f372"
      },
      "source": [
        "data['feature_names']"
      ],
      "id": "2053f372",
      "execution_count": null,
      "outputs": []
    },
    {
      "cell_type": "code",
      "metadata": {
        "id": "55d33d5d"
      },
      "source": [
        "data['data'][0]"
      ],
      "id": "55d33d5d",
      "execution_count": null,
      "outputs": []
    },
    {
      "cell_type": "code",
      "metadata": {
        "id": "29e41260"
      },
      "source": [
        "j = 0\n",
        "for i in data['feature_names']:\n",
        "    print(i,\":\",data['data'][568][j])\n",
        "    j += 1"
      ],
      "id": "29e41260",
      "execution_count": null,
      "outputs": []
    },
    {
      "cell_type": "code",
      "metadata": {
        "id": "-YzXRoAKTvJX"
      },
      "source": [
        "feature = data['data']"
      ],
      "id": "-YzXRoAKTvJX",
      "execution_count": null,
      "outputs": []
    },
    {
      "cell_type": "code",
      "metadata": {
        "id": "aRJEItTqTzWv"
      },
      "source": [
        "label = data['target']"
      ],
      "id": "aRJEItTqTzWv",
      "execution_count": null,
      "outputs": []
    },
    {
      "cell_type": "code",
      "metadata": {
        "id": "f04a8689"
      },
      "source": [
        "#index 0- malignant....index 1- benign\n",
        "data['target_names']  "
      ],
      "id": "f04a8689",
      "execution_count": null,
      "outputs": []
    },
    {
      "cell_type": "code",
      "metadata": {
        "id": "8a19e565"
      },
      "source": [
        "data['data'].shape"
      ],
      "id": "8a19e565",
      "execution_count": null,
      "outputs": []
    },
    {
      "cell_type": "code",
      "metadata": {
        "id": "017a3de2"
      },
      "source": [
        "feature.shape"
      ],
      "id": "017a3de2",
      "execution_count": null,
      "outputs": []
    },
    {
      "cell_type": "code",
      "metadata": {
        "id": "967c27a1"
      },
      "source": [
        "label.shape"
      ],
      "id": "967c27a1",
      "execution_count": null,
      "outputs": []
    },
    {
      "cell_type": "code",
      "metadata": {
        "id": "2a560f35"
      },
      "source": [
        "#rearrange the number in particular range\n",
        "scale = StandardScaler()  \n",
        "\n",
        "feature = scale.fit_transform(feature)"
      ],
      "id": "2a560f35",
      "execution_count": null,
      "outputs": []
    },
    {
      "cell_type": "code",
      "metadata": {
        "id": "8fa28394"
      },
      "source": [
        "j = 0\n",
        "for i in data['feature_names']:\n",
        "    print(i,\":\",feature[0][j])\n",
        "    j += 1"
      ],
      "id": "8fa28394",
      "execution_count": null,
      "outputs": []
    },
    {
      "cell_type": "code",
      "metadata": {
        "id": "29fe22c3"
      },
      "source": [
        "print(feature[0])\n",
        "print(data['target_names'][label[0]])"
      ],
      "id": "29fe22c3",
      "execution_count": null,
      "outputs": []
    },
    {
      "cell_type": "code",
      "metadata": {
        "id": "bLfneMtZTIw6"
      },
      "source": [
        "df_frt = pd.DataFrame(feature , columns = data['feature_names'])\n",
        "df_lbl = pd.DataFrame(label , columns = ['label'])\n",
        "df = pd.concat([df_frt, df_lbl], axis=1)\n",
        "df = df.sample(frac = 1)\n",
        "\n",
        "feature = df.values[ : , : 30]\n",
        "label = df.values[ : ,30: ]"
      ],
      "id": "bLfneMtZTIw6",
      "execution_count": null,
      "outputs": []
    },
    {
      "cell_type": "code",
      "metadata": {
        "id": "c3f126e4"
      },
      "source": [
        "df"
      ],
      "id": "c3f126e4",
      "execution_count": null,
      "outputs": []
    },
    {
      "cell_type": "code",
      "metadata": {
        "id": "7e566d79"
      },
      "source": [
        "x_train = feature[:500]\n",
        "y_train = label[:500]\n",
        "\n",
        "x_val = feature[500:535]\n",
        "y_val = label[500:535]\n",
        "\n",
        "x_test = feature[535:]\n",
        "y_test = label[535:]"
      ],
      "id": "7e566d79",
      "execution_count": null,
      "outputs": []
    },
    {
      "cell_type": "code",
      "metadata": {
        "id": "9267a2bc"
      },
      "source": [
        "#creates an empty stack where we start adding layers in sequence\n",
        "model = Sequential() \n",
        "\n",
        "model.add(Dense(128, activation = 'relu', input_dim = 30))\n",
        "model.add(Dense(64, activation = 'relu'))\n",
        "model.add(Dense(32, activation = 'relu'))\n",
        "\n",
        "model.add(Dense(1,activation = 'sigmoid')) \n",
        "\n",
        "model.compile( loss = 'binary_crossentropy', optimizer= 'adam', metrics= ['accuracy'])"
      ],
      "id": "9267a2bc",
      "execution_count": null,
      "outputs": []
    },
    {
      "cell_type": "code",
      "metadata": {
        "id": "836f8ad6"
      },
      "source": [
        "model.fit(x_train, y_train, epochs = 10, batch_size=1, validation_data = (x_val, y_val))"
      ],
      "id": "836f8ad6",
      "execution_count": null,
      "outputs": []
    },
    {
      "cell_type": "code",
      "metadata": {
        "id": "RBYov_0TUuIt"
      },
      "source": [
        "model.evaluate( x_test, y_test)"
      ],
      "id": "RBYov_0TUuIt",
      "execution_count": null,
      "outputs": []
    },
    {
      "cell_type": "code",
      "metadata": {
        "id": "WIv3S4cltOrk"
      },
      "source": [
        "for i in range(30):\n",
        "  sample = x_test[i]\n",
        "  sample = np.reshape(sample, (1,30))\n",
        "\n",
        "  if (model.predict(sample)[0][0] > 0.5):\n",
        "    print(\"-Benign\")\n",
        "  else:\n",
        "    print(\"-Malignant\")\n",
        "\n",
        "  if (y_test[i] == 1):\n",
        "    print(\"*Benign\")\n",
        "  else:\n",
        "    print(\"*Malignant\")\n",
        "  print(\"-----------\")"
      ],
      "id": "WIv3S4cltOrk",
      "execution_count": null,
      "outputs": []
    }
  ]
}